{
 "cells": [
  {
   "cell_type": "code",
   "execution_count": 141,
   "metadata": {
    "collapsed": true
   },
   "outputs": [],
   "source": [
    "import pandas as pd"
   ]
  },
  {
   "cell_type": "code",
   "execution_count": 142,
   "metadata": {},
   "outputs": [
    {
     "name": "stderr",
     "output_type": "stream",
     "text": [
      "/Users/anilc/Library/Python/3.6/lib/python/site-packages/IPython/core/interactiveshell.py:2728: DtypeWarning: Columns (31) have mixed types. Specify dtype option on import or set low_memory=False.\n  interactivity=interactivity, compiler=compiler, result=result)\n"
     ]
    }
   ],
   "source": [
    "accidents = pd.read_csv(\"datasets/dftRoadSafety_Accidents_2016.csv\", index_col=\"Accident_Index\")\n",
    "\n",
    "\n"
   ]
  },
  {
   "cell_type": "code",
   "execution_count": 143,
   "metadata": {
    "collapsed": false
   },
   "outputs": [
    {
     "name": "stdout",
     "output_type": "stream",
     "text": [
      "['Location_Easting_OSGR', 'Location_Northing_OSGR', 'Longitude', 'Latitude', 'Police_Force', 'Accident_Severity', 'Number_of_Vehicles', 'Number_of_Casualties', 'Date', 'Day_of_Week', 'Time', 'Local_Authority_(District)', 'Local_Authority_(Highway)', '1st_Road_Class', '1st_Road_Number', 'Road_Type', 'Speed_limit', 'Junction_Detail', 'Junction_Control', '2nd_Road_Class', '2nd_Road_Number', 'Pedestrian_Crossing-Human_Control', 'Pedestrian_Crossing-Physical_Facilities', 'Light_Conditions', 'Weather_Conditions', 'Road_Surface_Conditions', 'Special_Conditions_at_Site', 'Carriageway_Hazards', 'Urban_or_Rural_Area', 'Did_Police_Officer_Attend_Scene_of_Accident', 'LSOA_of_Accident_Location']\n"
     ]
    }
   ],
   "source": [
    "print(list(accidents.columns.values))"
   ]
  },
  {
   "cell_type": "code",
   "execution_count": 144,
   "metadata": {},
   "outputs": [],
   "source": [
    "#appointments_filtered = accidents.drop('PatientId', axis=1)\n",
    "\n",
    "accidents_filtered = accidents[['Accident_Severity', 'Day_of_Week', 'Time', 'Road_Type', 'Speed_limit',\n",
    "                                   'Junction_Detail', 'Junction_Control', 'Pedestrian_Crossing-Human_Control', \n",
    "                                   'Pedestrian_Crossing-Physical_Facilities', 'Light_Conditions', 'Weather_Conditions', \n",
    "                                   'Road_Surface_Conditions', 'Special_Conditions_at_Site', 'Carriageway_Hazards']].copy()\n",
    "\n",
    "accidents_filtered = accidents.filter(['Longitude', 'Latitude', 'Accident_Severity', 'Day_of_Week', 'Time', 'Road_Type', 'Speed_limit',\n",
    "                                            'Junction_Detail', 'Junction_Control', 'Pedestrian_Crossing-Human_Control',\n",
    "                                            'Pedestrian_Crossing-Physical_Facilities', 'Light_Conditions', 'Weather_Conditions',\n",
    "                                            'Road_Surface_Conditions', 'Special_Conditions_at_Site', 'Carriageway_Hazards'], \n",
    "                                            axis=1)\n"
   ]
  },
  {
   "cell_type": "code",
   "execution_count": 129,
   "metadata": {},
   "outputs": [],
   "source": [
    "# accidents.head()\n",
    "# accidents.describe()\n",
    "# accidents_filtered.describe()\n",
    "# accidents_filtered.corr()"
   ]
  },
  {
   "cell_type": "code",
   "execution_count": 145,
   "metadata": {},
   "outputs": [],
   "source": [
    "cols_to_transform = ['Day_of_Week', 'Road_Type', 'Speed_limit', 'Junction_Detail', 'Junction_Control',\n",
    "                     'Pedestrian_Crossing-Human_Control', 'Pedestrian_Crossing-Physical_Facilities',\n",
    "                     'Light_Conditions', 'Weather_Conditions', 'Road_Surface_Conditions',\n",
    "                     'Special_Conditions_at_Site', 'Carriageway_Hazards' ]\n",
    "accidents_onehotencoded = pd.get_dummies(accidents_filtered, columns = cols_to_transform)\n",
    "# accidents_onehotencoded.head()\n",
    "# accidents_onehotencoded.describe()\n",
    "# accidents_onehotencoded.corr()"
   ]
  },
  {
   "cell_type": "code",
   "execution_count": 146,
   "metadata": {},
   "outputs": [],
   "source": [
    "from matplotlib import pyplot as plt\n",
    "plt.figure(figsize=(13, 8))\n",
    "\n",
    "ax = plt.subplot(1, 2, 1)\n",
    "ax.set_title(\"Location vs severity\")\n",
    "\n",
    "plt.scatter(accidents_onehotencoded['Longitude'],\n",
    "            accidents_onehotencoded['Latitude'],\n",
    "            marker='o',\n",
    "            s=0.1,\n",
    "            cmap=\"prism\", #repetitive red-yellow-green-blue-purple\n",
    "            c=accidents_onehotencoded['Accident_Severity'])\n",
    "\n",
    "plt.plot()\n",
    "plt.show()"
   ]
  },
  {
   "cell_type": "code",
   "execution_count": 132,
   "metadata": {},
   "outputs": [],
   "source": [
    "accidents['Road_Type' ].hist()\n",
    "#some corelation found \n",
    "# Road_Type, Day_of_Week, Speed_limit, \n",
    "# Junction_Detail, Junction_Control\n",
    "# Light_Conditions, 'Road_Surface_Conditions'\n",
    "# 'Weather_Conditions' (very small)\n",
    "#TBD 'Time'\n",
    "\n",
    "#No corelation\n",
    "# 'Pedestrian_Crossing-Human_Control'\n",
    "# 'Pedestrian_Crossing-Physical_Facilities',\n",
    "# Special_Conditions_at_Site \n",
    "# Carriageway_Hazards\n",
    "plt.show()"
   ]
  },
  {
   "cell_type": "code",
   "execution_count": 133,
   "metadata": {},
   "outputs": [],
   "source": [
    "from matplotlib import pyplot as plt\n",
    "plt.figure(figsize=(13, 8))\n",
    "\n",
    "ax = plt.subplot(1, 2, 1)\n",
    "ax.set_title(\"Location vs severity\")\n",
    "\n",
    "plt.scatter(accidents['Road_Type'],\n",
    "            accidents['Road_Surface_Conditions'],\n",
    "            marker='o',\n",
    "            s=1,\n",
    "            #cmap=\"prism\", #repetitive red-yellow-green-blue-purple\n",
    "            c=accidents['Accident_Severity'])\n",
    "\n",
    "plt.plot()\n",
    "plt.show()"
   ]
  },
  {
   "cell_type": "code",
   "execution_count": 140,
   "metadata": {},
   "outputs": [
    {
     "name": "stdout",
     "output_type": "stream",
     "text": [
      "Road_Type  Accident_Severity\n-1         3                        0\n 1         1                       26\n           2                     1045\n           3                     7794\n 2         1                       22\n           2                      445\n           3                     2650\n 3         1                      339\n           2                     2837\n           3                    16941\n 6         1                     1282\n           2                    17099\n           3                    83300\n 7         1                       16\n           2                      137\n           3                     1282\n 9         1                       10\n           2                      160\n           3                     1229\nName: Longitude, dtype: int64\n"
     ]
    }
   ],
   "source": [
    "import numpy as np\n",
    "import matplotlib.pyplot as plt\n",
    "from matplotlib.ticker import MaxNLocator\n",
    "\n",
    "counts_by_road_type = accidents.filter(['Road_Type', 'Accident_Severity', 'Longitude']) \\\n",
    "    .groupby(['Road_Type', 'Accident_Severity']).count()\n",
    "\n",
    "print(counts_by_road_type[\"Longitude\"])\n",
    "\n",
    "road_types = accidents['Road_Type'].unique()\n",
    "\n",
    "num_road_types = road_types.size\n",
    "\n",
    "one_counts = [counts_by_road_type[\"Longitude\"][rt][1] if 1 in counts_by_road_type[\"Longitude\"][rt] \n",
    "                else 0\n",
    "              for rt in road_types]\n",
    "\n",
    "two_counts = [counts_by_road_type[\"Longitude\"][rt][2] if 2 in counts_by_road_type[\"Longitude\"][rt]\n",
    "                else 0\n",
    "              for rt in road_types]\n",
    "\n",
    "three_counts = [counts_by_road_type[\"Longitude\"][rt][3] if 3 in counts_by_road_type[\"Longitude\"][rt]\n",
    "                else 0\n",
    "                for rt in road_types]\n",
    "\n",
    "#three_counts = [counts[\"Longitude\"][rt][3] for rt in accidents['Road_Type'].unique()]\n",
    "\n",
    "fig, ax = plt.subplots()\n",
    "\n",
    "index = np.arange(num_road_types)\n",
    "bar_width = 0.35\n",
    "\n",
    "rects1 = ax.bar(index, one_counts, bar_width,\n",
    "                alpha=opacity,\n",
    "                color='b',\n",
    "                error_kw=error_config,\n",
    "                label='1')\n",
    "\n",
    "rects2 = ax.bar(index+ bar_width, two_counts, bar_width,\n",
    "                alpha=opacity,\n",
    "                color='g',\n",
    "                error_kw=error_config,\n",
    "                label='2')\n",
    "\n",
    "rects2 = ax.bar(index+ 2*bar_width, three_counts, bar_width,\n",
    "                alpha=opacity,\n",
    "                color='r',\n",
    "                error_kw=error_config,\n",
    "                label='3')\n",
    "\n",
    "\n",
    "ax.set_xlabel('Road Type')\n",
    "ax.set_ylabel('Accidents')\n",
    "ax.set_title('Accidents by road type')\n",
    "ax.set_xticks(index + bar_width / 2)\n",
    "ax.set_xticklabels(accidents['Road_Type'].unique())\n",
    "ax.legend()\n",
    "\n",
    "fig.tight_layout()\n",
    "plt.show()\n",
    "\n"
   ]
  },
  {
   "cell_type": "code",
   "execution_count": null,
   "metadata": {},
   "outputs": [],
   "source": []
  }
 ],
 "metadata": {
  "kernelspec": {
   "display_name": "Python 2",
   "language": "python",
   "name": "python2"
  },
  "language_info": {
   "codemirror_mode": {
    "name": "ipython",
    "version": 2
   },
   "file_extension": ".py",
   "mimetype": "text/x-python",
   "name": "python",
   "nbconvert_exporter": "python",
   "pygments_lexer": "ipython2",
   "version": "2.7.6"
  }
 },
 "nbformat": 4,
 "nbformat_minor": 0
}
